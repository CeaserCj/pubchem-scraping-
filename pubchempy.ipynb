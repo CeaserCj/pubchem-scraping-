{
 "cells": [
  {
   "cell_type": "code",
   "execution_count": 2,
   "id": "562e7b78",
   "metadata": {},
   "outputs": [],
   "source": [
    "import pubchempy as pcp\n",
    "from pubchempy import*\n",
    "import pandas as pd"
   ]
  },
  {
   "cell_type": "code",
   "execution_count": 3,
   "id": "3c2d4362",
   "metadata": {},
   "outputs": [
    {
     "name": "stdout",
     "output_type": "stream",
     "text": [
      "329.2\n",
      "CC(C)C(C)(C#N)NC(=O)C(C)OC1=C(C=C(C=C1)Cl)Cl\n"
     ]
    }
   ],
   "source": [
    "comps = pcp.get_compounds(' Fenoxanil', 'name')\n",
    "print(comps[0].molecular_weight)\n",
    "print(comps[0].canonical_smiles)\n"
   ]
  },
  {
   "cell_type": "code",
   "execution_count": null,
   "id": "3ddef790",
   "metadata": {},
   "outputs": [],
   "source": []
  }
 ],
 "metadata": {
  "kernelspec": {
   "display_name": "Python 3 (ipykernel)",
   "language": "python",
   "name": "python3"
  },
  "language_info": {
   "codemirror_mode": {
    "name": "ipython",
    "version": 3
   },
   "file_extension": ".py",
   "mimetype": "text/x-python",
   "name": "python",
   "nbconvert_exporter": "python",
   "pygments_lexer": "ipython3",
   "version": "3.11.5"
  }
 },
 "nbformat": 4,
 "nbformat_minor": 5
}
